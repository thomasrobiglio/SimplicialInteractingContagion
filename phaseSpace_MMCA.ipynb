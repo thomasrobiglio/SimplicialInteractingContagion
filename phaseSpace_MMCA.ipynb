{
 "cells": [
  {
   "cell_type": "code",
   "execution_count": 1,
   "id": "4c4025ec",
   "metadata": {},
   "outputs": [],
   "source": [
    "import networkx as nx\n",
    "import numpy as np\n",
    "from scipy import random\n",
    "import copy\n",
    "import random\n",
    "from collections import OrderedDict\n",
    "import pickle\n",
    "import itertools\n",
    "from multiprocessing import Pool\n",
    "from utils_RSC_interactive_ABseparated import *\n",
    "from tqdm.notebook import tqdm\n",
    "\n",
    "import matplotlib.pyplot as plt\n",
    "%matplotlib inline"
   ]
  },
  {
   "cell_type": "code",
   "execution_count": 2,
   "id": "4cce4bde",
   "metadata": {},
   "outputs": [],
   "source": [
    "#SC parameters\n",
    "N = 600\n",
    "k1 = 20\n",
    "k2 = 6\n",
    "\n",
    "p1, p2 = get_p1_and_p2(k1,k2,N)"
   ]
  },
  {
   "cell_type": "code",
   "execution_count": 3,
   "id": "50bade3e",
   "metadata": {},
   "outputs": [],
   "source": [
    "import random as rd\n",
    "\n",
    "def markovChain(beta_A, beta_D_A, mu_A, beta_B, beta_D_B, mu_B, epsilon_A, epsilon_B, node_neighbors_dict, tri_neighbors_dict, NSteps, i0_A, i0_B, i0_AB):\n",
    "    N = len(node_neighbors_dict)\n",
    "    \n",
    "    #initial seeds\n",
    "    p_A = np.zeros(N)\n",
    "    p_A[rd.sample(range(N),int(N*i0_A))] = 1\n",
    "    p_A_new = np.copy(p_A)\n",
    "    \n",
    "    p_B = np.zeros(N)\n",
    "    p_B[rd.sample(range(N),int(N*i0_B))] = 1\n",
    "    p_B_new = np.copy(p_B)\n",
    "    \n",
    "    p_AB = np.zeros(N)\n",
    "    p_AB[rd.sample(range(N),int(N*i0_AB))] = 1\n",
    "    p_AB_new = np.copy(p_AB)\n",
    "    \n",
    "    q_BA = 1\n",
    "    q_AB = 1\n",
    "    q_S = 1\n",
    "    q_A = 1\n",
    "    q_B = 1\n",
    "    \n",
    "    pATime = [np.mean(p_A)]\n",
    "    pBTime = [np.mean(p_B)]\n",
    "    pABTime = [np.mean(p_AB)]\n",
    "    \n",
    "    for k in range(0,NSteps):\n",
    "        for i in range(0,N):\n",
    "            #updating the infections - simple contagion\n",
    "            for j in node_neighbors_dict[i]:\n",
    "                q_BA *= 1-epsilon_B*beta_A*(p_A[j]+p_AB[j])\n",
    "                q_AB *= 1-epsilon_A*beta_B*(p_B[j]+p_AB[j])\n",
    "                q_S *= 1-beta_A*(p_A[j]+p_AB[j])-beta_B*(p_B[j]+p_AB[j])+beta_A*beta_B*p_AB[j]*p_AB[j]\n",
    "                q_A *= 1-beta_A*(p_A[j]+p_AB[j])\n",
    "                q_B *= 1-beta_B*(p_B[j]+p_AB[j])\n",
    "                \n",
    "            #updating the infections - triangle contagion\n",
    "            for j, k in tri_neighbors_dict[i]:\n",
    "                q_BA *= 1-epsilon_B*beta_D_A*(p_A[j]+p_AB[j])*(p_A[k]+p_AB[k])\n",
    "                q_AB *= 1-epsilon_A*beta_D_B*(p_B[j]+p_AB[j])*(p_B[k]+p_AB[k])\n",
    "                q_S *= 1-beta_D_A*(p_A[j]+p_AB[j])*(p_A[k]+p_AB[k])-beta_D_A*(p_B[j]+p_AB[j])*(p_B[k]+p_AB[k])+beta_D_A*beta_D_B*p_AB[j]*p_AB[j]*p_AB[k]*p_AB[k]\n",
    "                q_A *= 1-beta_D_A*(p_A[j]+p_AB[j])*(p_A[k]+p_AB[k])\n",
    "                q_B *= 1-beta_D_B*(p_B[j]+p_AB[j])*(p_B[k]+p_AB[k])\n",
    "            \n",
    "            #calculating f_A and f_B\n",
    "            if ((1-q_A)*(1-0.5*(1-q_B))) == 0.0:\n",
    "                f_A = 0.\n",
    "            else:\n",
    "                f_A=(1-q_A)*(1-0.5*(1-q_B))/((1-q_A)*(1-0.5*(1-q_B))+(1-q_B)*(1-0.5*(1-q_A)))\n",
    "            if ((1-q_B)*(1-0.5*(1-q_A))) == 0.0:\n",
    "                f_B = 0.\n",
    "            else:            \n",
    "                f_B=(1-q_B)*(1-0.5*(1-q_A))/((1-q_A)*(1-0.5*(1-q_B))+(1-q_B)*(1-0.5*(1-q_A)))\n",
    "            \n",
    "            #Updating the vectors\n",
    "            p_AB_new[i] = p_B[i]*(1-mu_B)*(1-q_BA)+p_A[i]*(1-mu_A)*(1-q_AB)+p_AB[i]*(1-mu_A)*(1-mu_B)\n",
    "            p_A_new[i] = p_B[i]*mu_B*(1-q_BA)+p_A[i]*(1-mu_A)*q_AB+p_AB[i]*mu_B*(1-mu_A)+(1-p_A[i]-p_B[i]-p_AB[i])*f_A*(1-q_S)\n",
    "            p_B_new[i] = p_A[i]*mu_B*(1-q_AB)+p_B[i]*(1-mu_B)*q_BA+p_AB[i]*mu_A*(1-mu_B)+(1-p_A[i]-p_B[i]-p_AB[i])*f_B*(1-q_S)\n",
    "            \n",
    "            #resetting the parameters\n",
    "            q_BA = 1\n",
    "            q_AB = 1\n",
    "            q_S = 1\n",
    "            q_A = 1\n",
    "            q_B = 1\n",
    "        \n",
    "        p_A = np.copy(p_A_new)\n",
    "        p_B = np.copy(p_B_new)\n",
    "        p_AB = np.copy(p_AB_new)\n",
    "        \n",
    "        pATime.append(np.mean(p_A))\n",
    "        pBTime.append(np.mean(p_B))\n",
    "        pABTime.append(np.mean(p_AB))\n",
    "    \n",
    "    return pATime, pBTime, pABTime"
   ]
  },
  {
   "cell_type": "code",
   "execution_count": 4,
   "id": "fbace851",
   "metadata": {},
   "outputs": [],
   "source": [
    "from collections import defaultdict\n",
    "\n",
    "def get_tri_neighbors_dict(triangles_list):\n",
    "    tri_neighbors_dict = defaultdict(list)\n",
    "    for i, j, k in triangles_list:\n",
    "        tri_neighbors_dict[i].append((j,k))\n",
    "        tri_neighbors_dict[j].append((i,k))\n",
    "        tri_neighbors_dict[k].append((i,j))\n",
    "    return tri_neighbors_dict"
   ]
  },
  {
   "cell_type": "code",
   "execution_count": 5,
   "id": "ffb553af",
   "metadata": {},
   "outputs": [
    {
     "name": "stdout",
     "output_type": "stream",
     "text": [
      "1216 triangles created. Size now is 6069\n"
     ]
    }
   ],
   "source": [
    "node_neighbors_dict, triangles_list = generate_my_simplicial_complex_d2(N,p1,p2)\n",
    "real_k = 1.*sum([len(v) for v in node_neighbors_dict.values()])/len(node_neighbors_dict)\n",
    "real_kD = 3.*len(triangles_list)/len(node_neighbors_dict)\n",
    "\n",
    "tri_neighbors_dict = get_tri_neighbors_dict(triangles_list)\n",
    "\n",
    "mu_A = 0.05 #rec. prob. A\n",
    "mu_B = 0.05 #rec. prob. A\n",
    "\n",
    "lambda1s_A=[]\n",
    "for i in np.arange(0, 2, 0.05):\n",
    "    lambda1s_A.append(i)\n",
    "lambdaD_A_target_list = [0,0.8,2.5]\n",
    "\n",
    "lambda1_B = 1.5 #rescaled 1-simplex inf. prob. B\n",
    "lambdaD_B = 0. #desired rescaled 2-simplex inf. prob. B\n",
    "\n",
    "i0_A_list = [0.05,0.4] #initial conditions (% of infectious nodes at t=0) A\n",
    "i0_B = 0.1 #initial conditions (% of infectious nodes at t=0) B\n",
    "i0_AB = 0.0 #initial conditions (% of infectious nodes at t=0) AB\n",
    "\n",
    "epsilon_A = 1.5\n",
    "epsilon_B = 1.5\n",
    "\n",
    "NSteps = 2000"
   ]
  },
  {
   "cell_type": "code",
   "execution_count": 6,
   "id": "19af746f",
   "metadata": {},
   "outputs": [],
   "source": [
    "def get_stationary_densities(pt_A, pt_B, pt_AB, last_k_values):\n",
    "    rhos_A = np.mean(pt_A[-last_k_values:])\n",
    "    rhos_B = np.mean(pt_B[-last_k_values:])\n",
    "    rhos_AB = np.mean(pt_AB[-last_k_values:])\n",
    "    \n",
    "    return rhos_A, rhos_B, rhos_AB      "
   ]
  },
  {
   "cell_type": "code",
   "execution_count": 8,
   "id": "eba844f5",
   "metadata": {},
   "outputs": [
    {
     "ename": "ValueError",
     "evalue": "x and y must have same first dimension, but have shapes (40,) and (80,)",
     "output_type": "error",
     "traceback": [
      "\u001b[0;31m---------------------------------------------------------------------------\u001b[0m",
      "\u001b[0;31mValueError\u001b[0m                                Traceback (most recent call last)",
      "\u001b[0;32m<ipython-input-8-14641cf5a69b>\u001b[0m in \u001b[0;36m<module>\u001b[0;34m\u001b[0m\n\u001b[1;32m     28\u001b[0m             \u001b[0mplt\u001b[0m\u001b[0;34m.\u001b[0m\u001b[0mplot\u001b[0m\u001b[0;34m(\u001b[0m\u001b[0mlambda1s_A\u001b[0m\u001b[0;34m,\u001b[0m \u001b[0mrecord_A\u001b[0m\u001b[0;34m,\u001b[0m \u001b[0;34m'o--'\u001b[0m\u001b[0;34m,\u001b[0m \u001b[0mcolor\u001b[0m\u001b[0;34m=\u001b[0m\u001b[0mcolor\u001b[0m\u001b[0;34m,\u001b[0m \u001b[0mlabel\u001b[0m\u001b[0;34m=\u001b[0m\u001b[0mlabel\u001b[0m\u001b[0;34m)\u001b[0m\u001b[0;34m\u001b[0m\u001b[0;34m\u001b[0m\u001b[0m\n\u001b[1;32m     29\u001b[0m         \u001b[0;32melse\u001b[0m\u001b[0;34m:\u001b[0m\u001b[0;34m\u001b[0m\u001b[0;34m\u001b[0m\u001b[0m\n\u001b[0;32m---> 30\u001b[0;31m             \u001b[0mplt\u001b[0m\u001b[0;34m.\u001b[0m\u001b[0mplot\u001b[0m\u001b[0;34m(\u001b[0m\u001b[0mlambda1s_A\u001b[0m\u001b[0;34m,\u001b[0m \u001b[0mrecord_A\u001b[0m\u001b[0;34m,\u001b[0m \u001b[0;34m'o--'\u001b[0m\u001b[0;34m,\u001b[0m \u001b[0mcolor\u001b[0m\u001b[0;34m=\u001b[0m\u001b[0mcolor\u001b[0m\u001b[0;34m)\u001b[0m\u001b[0;34m\u001b[0m\u001b[0;34m\u001b[0m\u001b[0m\n\u001b[0m\u001b[1;32m     31\u001b[0m \u001b[0mplt\u001b[0m\u001b[0;34m.\u001b[0m\u001b[0mxlabel\u001b[0m\u001b[0;34m(\u001b[0m\u001b[0;34m'lambda1_A'\u001b[0m\u001b[0;34m)\u001b[0m\u001b[0;34m\u001b[0m\u001b[0;34m\u001b[0m\u001b[0m\n\u001b[1;32m     32\u001b[0m \u001b[0mplt\u001b[0m\u001b[0;34m.\u001b[0m\u001b[0mylabel\u001b[0m\u001b[0;34m(\u001b[0m\u001b[0;34m'stationary density - state A'\u001b[0m\u001b[0;34m)\u001b[0m\u001b[0;34m\u001b[0m\u001b[0;34m\u001b[0m\u001b[0m\n",
      "\u001b[0;32m~/opt/anaconda3/lib/python3.8/site-packages/matplotlib/pyplot.py\u001b[0m in \u001b[0;36mplot\u001b[0;34m(scalex, scaley, data, *args, **kwargs)\u001b[0m\n\u001b[1;32m   2838\u001b[0m \u001b[0;34m@\u001b[0m\u001b[0m_copy_docstring_and_deprecators\u001b[0m\u001b[0;34m(\u001b[0m\u001b[0mAxes\u001b[0m\u001b[0;34m.\u001b[0m\u001b[0mplot\u001b[0m\u001b[0;34m)\u001b[0m\u001b[0;34m\u001b[0m\u001b[0;34m\u001b[0m\u001b[0m\n\u001b[1;32m   2839\u001b[0m \u001b[0;32mdef\u001b[0m \u001b[0mplot\u001b[0m\u001b[0;34m(\u001b[0m\u001b[0;34m*\u001b[0m\u001b[0margs\u001b[0m\u001b[0;34m,\u001b[0m \u001b[0mscalex\u001b[0m\u001b[0;34m=\u001b[0m\u001b[0;32mTrue\u001b[0m\u001b[0;34m,\u001b[0m \u001b[0mscaley\u001b[0m\u001b[0;34m=\u001b[0m\u001b[0;32mTrue\u001b[0m\u001b[0;34m,\u001b[0m \u001b[0mdata\u001b[0m\u001b[0;34m=\u001b[0m\u001b[0;32mNone\u001b[0m\u001b[0;34m,\u001b[0m \u001b[0;34m**\u001b[0m\u001b[0mkwargs\u001b[0m\u001b[0;34m)\u001b[0m\u001b[0;34m:\u001b[0m\u001b[0;34m\u001b[0m\u001b[0;34m\u001b[0m\u001b[0m\n\u001b[0;32m-> 2840\u001b[0;31m     return gca().plot(\n\u001b[0m\u001b[1;32m   2841\u001b[0m         \u001b[0;34m*\u001b[0m\u001b[0margs\u001b[0m\u001b[0;34m,\u001b[0m \u001b[0mscalex\u001b[0m\u001b[0;34m=\u001b[0m\u001b[0mscalex\u001b[0m\u001b[0;34m,\u001b[0m \u001b[0mscaley\u001b[0m\u001b[0;34m=\u001b[0m\u001b[0mscaley\u001b[0m\u001b[0;34m,\u001b[0m\u001b[0;34m\u001b[0m\u001b[0;34m\u001b[0m\u001b[0m\n\u001b[1;32m   2842\u001b[0m         **({\"data\": data} if data is not None else {}), **kwargs)\n",
      "\u001b[0;32m~/opt/anaconda3/lib/python3.8/site-packages/matplotlib/axes/_axes.py\u001b[0m in \u001b[0;36mplot\u001b[0;34m(self, scalex, scaley, data, *args, **kwargs)\u001b[0m\n\u001b[1;32m   1741\u001b[0m         \"\"\"\n\u001b[1;32m   1742\u001b[0m         \u001b[0mkwargs\u001b[0m \u001b[0;34m=\u001b[0m \u001b[0mcbook\u001b[0m\u001b[0;34m.\u001b[0m\u001b[0mnormalize_kwargs\u001b[0m\u001b[0;34m(\u001b[0m\u001b[0mkwargs\u001b[0m\u001b[0;34m,\u001b[0m \u001b[0mmlines\u001b[0m\u001b[0;34m.\u001b[0m\u001b[0mLine2D\u001b[0m\u001b[0;34m)\u001b[0m\u001b[0;34m\u001b[0m\u001b[0;34m\u001b[0m\u001b[0m\n\u001b[0;32m-> 1743\u001b[0;31m         \u001b[0mlines\u001b[0m \u001b[0;34m=\u001b[0m \u001b[0;34m[\u001b[0m\u001b[0;34m*\u001b[0m\u001b[0mself\u001b[0m\u001b[0;34m.\u001b[0m\u001b[0m_get_lines\u001b[0m\u001b[0;34m(\u001b[0m\u001b[0;34m*\u001b[0m\u001b[0margs\u001b[0m\u001b[0;34m,\u001b[0m \u001b[0mdata\u001b[0m\u001b[0;34m=\u001b[0m\u001b[0mdata\u001b[0m\u001b[0;34m,\u001b[0m \u001b[0;34m**\u001b[0m\u001b[0mkwargs\u001b[0m\u001b[0;34m)\u001b[0m\u001b[0;34m]\u001b[0m\u001b[0;34m\u001b[0m\u001b[0;34m\u001b[0m\u001b[0m\n\u001b[0m\u001b[1;32m   1744\u001b[0m         \u001b[0;32mfor\u001b[0m \u001b[0mline\u001b[0m \u001b[0;32min\u001b[0m \u001b[0mlines\u001b[0m\u001b[0;34m:\u001b[0m\u001b[0;34m\u001b[0m\u001b[0;34m\u001b[0m\u001b[0m\n\u001b[1;32m   1745\u001b[0m             \u001b[0mself\u001b[0m\u001b[0;34m.\u001b[0m\u001b[0madd_line\u001b[0m\u001b[0;34m(\u001b[0m\u001b[0mline\u001b[0m\u001b[0;34m)\u001b[0m\u001b[0;34m\u001b[0m\u001b[0;34m\u001b[0m\u001b[0m\n",
      "\u001b[0;32m~/opt/anaconda3/lib/python3.8/site-packages/matplotlib/axes/_base.py\u001b[0m in \u001b[0;36m__call__\u001b[0;34m(self, data, *args, **kwargs)\u001b[0m\n\u001b[1;32m    271\u001b[0m                 \u001b[0mthis\u001b[0m \u001b[0;34m+=\u001b[0m \u001b[0margs\u001b[0m\u001b[0;34m[\u001b[0m\u001b[0;36m0\u001b[0m\u001b[0;34m]\u001b[0m\u001b[0;34m,\u001b[0m\u001b[0;34m\u001b[0m\u001b[0;34m\u001b[0m\u001b[0m\n\u001b[1;32m    272\u001b[0m                 \u001b[0margs\u001b[0m \u001b[0;34m=\u001b[0m \u001b[0margs\u001b[0m\u001b[0;34m[\u001b[0m\u001b[0;36m1\u001b[0m\u001b[0;34m:\u001b[0m\u001b[0;34m]\u001b[0m\u001b[0;34m\u001b[0m\u001b[0;34m\u001b[0m\u001b[0m\n\u001b[0;32m--> 273\u001b[0;31m             \u001b[0;32myield\u001b[0m \u001b[0;32mfrom\u001b[0m \u001b[0mself\u001b[0m\u001b[0;34m.\u001b[0m\u001b[0m_plot_args\u001b[0m\u001b[0;34m(\u001b[0m\u001b[0mthis\u001b[0m\u001b[0;34m,\u001b[0m \u001b[0mkwargs\u001b[0m\u001b[0;34m)\u001b[0m\u001b[0;34m\u001b[0m\u001b[0;34m\u001b[0m\u001b[0m\n\u001b[0m\u001b[1;32m    274\u001b[0m \u001b[0;34m\u001b[0m\u001b[0m\n\u001b[1;32m    275\u001b[0m     \u001b[0;32mdef\u001b[0m \u001b[0mget_next_color\u001b[0m\u001b[0;34m(\u001b[0m\u001b[0mself\u001b[0m\u001b[0;34m)\u001b[0m\u001b[0;34m:\u001b[0m\u001b[0;34m\u001b[0m\u001b[0;34m\u001b[0m\u001b[0m\n",
      "\u001b[0;32m~/opt/anaconda3/lib/python3.8/site-packages/matplotlib/axes/_base.py\u001b[0m in \u001b[0;36m_plot_args\u001b[0;34m(self, tup, kwargs)\u001b[0m\n\u001b[1;32m    397\u001b[0m \u001b[0;34m\u001b[0m\u001b[0m\n\u001b[1;32m    398\u001b[0m         \u001b[0;32mif\u001b[0m \u001b[0mx\u001b[0m\u001b[0;34m.\u001b[0m\u001b[0mshape\u001b[0m\u001b[0;34m[\u001b[0m\u001b[0;36m0\u001b[0m\u001b[0;34m]\u001b[0m \u001b[0;34m!=\u001b[0m \u001b[0my\u001b[0m\u001b[0;34m.\u001b[0m\u001b[0mshape\u001b[0m\u001b[0;34m[\u001b[0m\u001b[0;36m0\u001b[0m\u001b[0;34m]\u001b[0m\u001b[0;34m:\u001b[0m\u001b[0;34m\u001b[0m\u001b[0;34m\u001b[0m\u001b[0m\n\u001b[0;32m--> 399\u001b[0;31m             raise ValueError(f\"x and y must have same first dimension, but \"\n\u001b[0m\u001b[1;32m    400\u001b[0m                              f\"have shapes {x.shape} and {y.shape}\")\n\u001b[1;32m    401\u001b[0m         \u001b[0;32mif\u001b[0m \u001b[0mx\u001b[0m\u001b[0;34m.\u001b[0m\u001b[0mndim\u001b[0m \u001b[0;34m>\u001b[0m \u001b[0;36m2\u001b[0m \u001b[0;32mor\u001b[0m \u001b[0my\u001b[0m\u001b[0;34m.\u001b[0m\u001b[0mndim\u001b[0m \u001b[0;34m>\u001b[0m \u001b[0;36m2\u001b[0m\u001b[0;34m:\u001b[0m\u001b[0;34m\u001b[0m\u001b[0;34m\u001b[0m\u001b[0m\n",
      "\u001b[0;31mValueError\u001b[0m: x and y must have same first dimension, but have shapes (40,) and (80,)"
     ]
    },
    {
     "data": {
      "image/png": "[encoded data removed]",
      "text/plain": [
       "<Figure size 432x288 with 1 Axes>"
      ]
     },
     "metadata": {
      "needs_background": "light"
     },
     "output_type": "display_data"
    }
   ],
   "source": [
    "for i0_A in i0_A_list:\n",
    "    for lambdaD_A_target in lambdaD_A_target_list:\n",
    "        record_A = []\n",
    "        record_B = []\n",
    "        record_AB = []\n",
    "        for lambda1_A  in lambda1s_A:\n",
    "            beta_A = 1.*(mu_A/real_k)*lambda1_A #1-simplex inf. prob. A\n",
    "            beta_D_A = 1.*(mu_A/real_kD)*lambdaD_A_target #2-simplex inf. prob. A\n",
    "\n",
    "            beta_B = 1.*(mu_B/real_k)*lambda1_B #1-simplex inf. prob. B\n",
    "            beta_D_B = 1.*(mu_B/real_kD)*lambdaD_B #2-simplex inf. prob. B\n",
    "        \n",
    "            pt_A, pt_B, pt_AB = markovChain(beta_A, beta_D_A, mu_A, beta_B, beta_D_B, mu_B, epsilon_A, epsilon_B, node_neighbors_dict, tri_neighbors_dict, NSteps, i0_A, i0_B, i0_AB)\n",
    "        \n",
    "            rhos_A, rhos_B, rhos_AB = get_stationary_densities(pt_A, pt_B, pt_AB, last_k_values=100)\n",
    "        \n",
    "            record_A.append(rhos_A)\n",
    "            record_B.append(rhos_B)\n",
    "            record_AB.append(rhos_AB)\n",
    "        if lambdaD_A_target == 2.5:\n",
    "            color = 'tab:green'\n",
    "        if lambdaD_A_target == 0.8:\n",
    "            color = 'tab:orange'\n",
    "        if lambdaD_A_target == 0.:\n",
    "            color = 'tab:blue'\n",
    "        if i0_A == 0.05:\n",
    "            label = 'lD='+str(lambdaD_A_target)\n",
    "            plt.plot(lambda1s_A, record_A, 'o--', color=color, label=label)\n",
    "        else:\n",
    "            plt.plot(lambda1s_A, record_A, 'o--', color=color)\n",
    "plt.xlabel('lambda1_A')\n",
    "plt.ylabel('stationary density - state A')\n",
    "plt.legend()\n",
    "plt.show()        "
   ]
  },
  {
   "cell_type": "code",
   "execution_count": null,
   "id": "9a98fa83",
   "metadata": {},
   "outputs": [],
   "source": []
  }
 ],
 "metadata": {
  "kernelspec": {
   "display_name": "Python 3",
   "language": "python",
   "name": "python3"
  },
  "language_info": {
   "codemirror_mode": {
    "name": "ipython",
    "version": 3
   },
   "file_extension": ".py",
   "mimetype": "text/x-python",
   "name": "python",
   "nbconvert_exporter": "python",
   "pygments_lexer": "ipython3",
   "version": "3.8.8"
  }
 },
 "nbformat": 4,
 "nbformat_minor": 5
}
