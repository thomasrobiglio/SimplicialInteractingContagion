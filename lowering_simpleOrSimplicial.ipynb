{
 "cells": [
  {
   "cell_type": "code",
   "execution_count": null,
   "id": "9b458820",
   "metadata": {},
   "outputs": [],
   "source": [
    "import networkx as nx\n",
    "import numpy as np\n",
    "from scipy import random\n",
    "import copy\n",
    "import random\n",
    "from collections import OrderedDict\n",
    "import pickle\n",
    "import itertools\n",
    "from multiprocessing import Pool\n",
    "from utils_RSC_interactive_ABseparated import *\n",
    "\n",
    "import matplotlib.pyplot as plt\n",
    "%matplotlib inline"
   ]
  },
  {
   "cell_type": "code",
   "execution_count": null,
   "id": "7cb9374b",
   "metadata": {},
   "outputs": [],
   "source": [
    "#Simplicial complex parameters\n",
    "N = 2000\n",
    "k1 = 20\n",
    "k2 = 6\n",
    "p1, p2 = get_p1_and_p2(k1,k2,N)\n",
    "\n",
    "#Infection parameters - A\n",
    "mu_A=0.05\n",
    "lambda1s_A=[]\n",
    "for i in np.arange(0, 2, 0.05):\n",
    "    lambda1s_A.append(i)\n",
    "lambdaD_A_target = 0. #2.5\n",
    "I_A_percentage = 5 #initial conditions (% of infected)\n",
    "\n",
    "#Infection parameters - B\n",
    "mu_B=0.05\n",
    "lambda1s_B=[]\n",
    "for i in np.arange(0, 2, 0.05):\n",
    "    lambda1s_B.append(1.5)\n",
    "lambdaD_B_target=0.\n",
    "I_B_percentage= 5 #initial conditions (% of infected)\n",
    "\n",
    "I_AB_percentage = 1\n",
    "\n",
    "#Interaction parameters\n",
    "epsilon_A = 1.\n",
    "epsilon_B_list = [1., 2., 4., 6.] \n",
    "#Simulation Parameters\n",
    "t_max = 6000\n",
    "n_simulations = 64\n",
    "\n",
    "out_dir = '.../Results2/' #'.../Results1/'"
   ]
  },
  {
   "cell_type": "code",
   "execution_count": null,
   "id": "fcbbfa00",
   "metadata": {},
   "outputs": [],
   "source": [
    "!mkdir .../Results2/ #.../Results1/"
   ]
  },
  {
   "cell_type": "markdown",
   "id": "5c0cf8bf",
   "metadata": {},
   "source": [
    "# Simulating and saving"
   ]
  },
  {
   "cell_type": "code",
   "execution_count": null,
   "id": "be3abe56",
   "metadata": {},
   "outputs": [],
   "source": [
    "iteration_numbers = range(n_simulations)\n",
    "for epsilon_B in epsilon_B_list:\n",
    "    #Preparing arguments for the parallel processing\n",
    "    args=[]\n",
    "    for it_num in range(n_simulations):\n",
    "        args.append([it_num, N, p1, p2, lambda1s_A, lambda1s_B, lambdaD_A_target, lambdaD_B_target, I_A_percentage, I_B_percentage,I_AB_percentage, epsilon_A, epsilon_B, t_max, mu_A, mu_B])\n",
    "    #Running in parallel\n",
    "    pool = Pool(processes=8)\n",
    "    results = pool.map(run_one_simulation, args) #rhos_A, rhos_B, real_k, real_kD\n",
    "    #Saving\n",
    "    filename = 'result_RSC_interactive_'+'N'+str(N)+'_k'+str(k1)+'_kD'+str(k2)+'_lDA'+str(lambdaD_A_target)+'_eA'+str(epsilon_A)+'_eB'+str(epsilon_B)+'_seedA'+str(I_A_percentage)+'_seedB'+str(I_B_percentage)+'_seedAB'+str(I_AB_percentage)+'.p'\n",
    "    pickle.dump(results, open(out_dir+filename, \"wb\" ))"
   ]
  }
 ],
 "metadata": {
  "kernelspec": {
   "display_name": "Python 3",
   "language": "python",
   "name": "python3"
  },
  "language_info": {
   "codemirror_mode": {
    "name": "ipython",
    "version": 3
   },
   "file_extension": ".py",
   "mimetype": "text/x-python",
   "name": "python",
   "nbconvert_exporter": "python",
   "pygments_lexer": "ipython3",
   "version": "3.8.8"
  }
 },
 "nbformat": 4,
 "nbformat_minor": 5
}
