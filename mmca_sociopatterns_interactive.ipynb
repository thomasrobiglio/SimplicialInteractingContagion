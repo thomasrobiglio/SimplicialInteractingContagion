{
 "cells": [
  {
   "cell_type": "code",
   "execution_count": 1,
   "id": "07e9d4e3",
   "metadata": {},
   "outputs": [],
   "source": [
    "import networkx as nx\n",
    "from itertools import combinations\n",
    "import json\n",
    "import numpy as np\n",
    "import random as rd\n",
    "from collections import defaultdict\n",
    "\n",
    "%matplotlib inline \n",
    "import matplotlib.pyplot as plt"
   ]
  },
  {
   "cell_type": "code",
   "execution_count": 2,
   "id": "20f95073",
   "metadata": {},
   "outputs": [],
   "source": [
    "def create_simplicial_complex_from_cliques(cliques):\n",
    "    \n",
    "    G = nx.Graph()\n",
    "    triangles_list = set() #will contain list of triangles (2-simplices)\n",
    "    \n",
    "    for c in cliques:\n",
    "        d = len(c)\n",
    "        \n",
    "        if d==2:\n",
    "            i, j = c\n",
    "            G.add_edge(i, j)\n",
    "        \n",
    "        elif d==3:\n",
    "            #adding the triangle as a sorted tuple (so that we don't get both ijk and jik for example)\n",
    "            triangles_list.add(tuple(sorted(c)))\n",
    "            #adding the single links\n",
    "            for i, j in combinations(c, 2):\n",
    "                G.add_edge(i, j)\n",
    "            \n",
    "        else: #d>3, but I only consider up to dimension 3\n",
    "            #adding the triangles\n",
    "            for i, j, k in combinations(c, 3):\n",
    "                triangles_list.add(tuple(sorted([i,j,k])))\n",
    "\n",
    "            #adding the single links\n",
    "            for i, j in combinations(c, 2):\n",
    "                G.add_edge(i, j)\n",
    "                \n",
    "    if nx.is_connected(G)==False:\n",
    "        print('not connected')\n",
    "                \n",
    "    #Creating a dictionary of neighbors\n",
    "    node_neighbors_dict = {}\n",
    "    for n in G.nodes():\n",
    "        node_neighbors_dict[n] = G[n].keys()\n",
    "        \n",
    "    #converting the triangle set of tuples into a triangle list of lists\n",
    "    triangles_list = [list(tri) for tri in triangles_list]\n",
    "\n",
    "    return node_neighbors_dict, triangles_list\n",
    "\n",
    "\n",
    "def import_sociopattern_simcomp_SCM(dataset_dir, dataset, n_minutes, thr):\n",
    "    filename = dataset_dir+'random_'+str(n_minutes)+'_'+str(thr)+'min_cliques_'+dataset+'.json'\n",
    "    SCM_cliques_list = json.load(open(filename,'r'))\n",
    "    \n",
    "    #considering one realization of the SCM\n",
    "    realization_number = rd.choice(range(len(SCM_cliques_list)))\n",
    "    cliques = SCM_cliques_list[realization_number] \n",
    "    node_neighbors_dict, triangles_list = create_simplicial_complex_from_cliques(cliques)\n",
    "    \n",
    "    N = len(node_neighbors_dict.keys())\n",
    "    avg_k1 = 1.*sum([len(v) for v in node_neighbors_dict.values()])/N\n",
    "    avg_k2 = 3.*len(triangles_list)/N \n",
    "    #ass = nx.degree_assortativity_coefficient(facet_list_to_graph(cliques))\n",
    "\n",
    "    #print N, avg_k1, avg_k2, \"Assortativity %.2f\"%ass\n",
    "    \n",
    "    return node_neighbors_dict, triangles_list, avg_k1, avg_k2\n",
    "\n",
    "def get_tri_neighbors_dict(triangles_list):\n",
    "    tri_neighbors_dict = defaultdict(list)\n",
    "    for i, j, k in triangles_list:\n",
    "        tri_neighbors_dict[i].append((j,k))\n",
    "        tri_neighbors_dict[j].append((i,k))\n",
    "        tri_neighbors_dict[k].append((i,j))\n",
    "    return tri_neighbors_dict"
   ]
  },
  {
   "cell_type": "code",
   "execution_count": 8,
   "id": "246c053b",
   "metadata": {},
   "outputs": [],
   "source": [
    "def markovChain(beta_A, beta_D_A, mu_A, beta_B, beta_D_B, mu_B, epsilon_A, epsilon_B, node_neighbors_dict, tri_neighbors_dict, NSteps, i0_A, i0_B, i0_AB):\n",
    "    N = len(node_neighbors_dict)\n",
    "    \n",
    "    #initial seeds\n",
    "    p_A = np.zeros(N)\n",
    "    p_A[rd.sample(range(N),int(N*i0_A))] = 1\n",
    "    p_A_new = np.copy(p_A)\n",
    "    \n",
    "    p_B = np.zeros(N)\n",
    "    p_B[rd.sample(range(N),int(N*i0_B))] = 1\n",
    "    p_B_new = np.copy(p_B)\n",
    "    \n",
    "    p_AB = np.zeros(N)\n",
    "    p_AB[rd.sample(range(N),int(N*i0_AB))] = 1\n",
    "    p_AB_new = np.copy(p_AB)\n",
    "    \n",
    "    q_BA = 1\n",
    "    q_AB = 1\n",
    "    q_S = 1\n",
    "    q_A = 1\n",
    "    q_B = 1\n",
    "    \n",
    "    pATime = [np.mean(p_A)]\n",
    "    pBTime = [np.mean(p_B)]\n",
    "    pABTime = [np.mean(p_AB)]\n",
    "    \n",
    "    for k in range(0,NSteps):\n",
    "        for i in range(0,N):\n",
    "            #updating the infections - simple contagion\n",
    "            for j in node_neighbors_dict[i]:\n",
    "                q_BA *= 1-epsilon_B*beta_A*(p_A[j]+p_AB[j])\n",
    "                q_AB *= 1-epsilon_A*beta_B*(p_B[j]+p_AB[j])\n",
    "                q_S *= 1-beta_A*(p_A[j]+p_AB[j])-beta_B*(p_B[j]+p_AB[j])+beta_A*beta_B*p_AB[j]*p_AB[j]\n",
    "                q_A *= 1-beta_A*(p_A[j]+p_AB[j])\n",
    "                q_B *= 1-beta_B*(p_B[j]+p_AB[j])\n",
    "                \n",
    "            #updating the infections - triangle contagion\n",
    "            for j, k in tri_neighbors_dict[i]:\n",
    "                q_BA *= 1-epsilon_B*beta_D_A*(p_A[j]+p_AB[j])*(p_A[k]+p_AB[k])\n",
    "                q_AB *= 1-epsilon_A*beta_D_B*(p_B[j]+p_AB[j])*(p_B[k]+p_AB[k])\n",
    "                q_S *= 1-beta_D_A*(p_A[j]+p_AB[j])*(p_A[k]+p_AB[k])-beta_D_A*(p_B[j]+p_AB[j])*(p_B[k]+p_AB[k])+beta_D_A*beta_D_B*p_AB[j]*p_AB[j]*p_AB[k]*p_AB[k]\n",
    "                q_A *= 1-beta_D_A*(p_A[j]+p_AB[j])*(p_A[k]+p_AB[k])\n",
    "                q_B *= 1-beta_D_B*(p_B[j]+p_AB[j])*(p_B[k]+p_AB[k])\n",
    "            \n",
    "            #calculating f_A and f_B\n",
    "            if ((1-q_A)*(1-0.5*(1-q_B))) == 0.0:\n",
    "                f_A = 0.\n",
    "            else:\n",
    "                f_A=(1-q_A)*(1-0.5*(1-q_B))/((1-q_A)*(1-0.5*(1-q_B))+(1-q_B)*(1-0.5*(1-q_A)))\n",
    "            if ((1-q_B)*(1-0.5*(1-q_A))) == 0.0:\n",
    "                f_B = 0.\n",
    "            else:            \n",
    "                f_B=(1-q_B)*(1-0.5*(1-q_A))/((1-q_A)*(1-0.5*(1-q_B))+(1-q_B)*(1-0.5*(1-q_A)))\n",
    "            \n",
    "            #Updating the vectors\n",
    "            p_AB_new[i] = p_B[i]*(1-mu_B)*(1-q_BA)+p_A[i]*(1-mu_A)*(1-q_AB)+p_AB[i]*(1-mu_A)*(1-mu_B)\n",
    "            p_A_new[i] = p_B[i]*mu_B*(1-q_BA)+p_A[i]*(1-mu_A)*q_AB+p_AB[i]*mu_B*(1-mu_A)+(1-p_A[i]-p_B[i]-p_AB[i])*f_A*(1-q_S)\n",
    "            p_B_new[i] = p_A[i]*mu_B*(1-q_AB)+p_B[i]*(1-mu_B)*q_BA+p_AB[i]*mu_A*(1-mu_B)+(1-p_A[i]-p_B[i]-p_AB[i])*f_B*(1-q_S)\n",
    "            \n",
    "            #resetting the parameters\n",
    "            q_BA = 1\n",
    "            q_AB = 1\n",
    "            q_S = 1\n",
    "            q_A = 1\n",
    "            q_B = 1\n",
    "        \n",
    "        p_A = np.copy(p_A_new)\n",
    "        p_B = np.copy(p_B_new)\n",
    "        p_AB = np.copy(p_AB_new)\n",
    "        \n",
    "        pATime.append(np.mean(p_A))\n",
    "        pBTime.append(np.mean(p_B))\n",
    "        pABTime.append(np.mean(p_AB))\n",
    "    \n",
    "    return pATime, pBTime, pABTime    \n",
    "    "
   ]
  },
  {
   "cell_type": "code",
   "execution_count": 9,
   "id": "316f8420",
   "metadata": {},
   "outputs": [],
   "source": [
    "dataset_dir = '/Users/thomasrobiglio/simplicialSad/simplagion_interactive/sociopatterns_thr_data_random/'\n",
    "dataset = 'Thiers13'\n",
    "n_minutes = 5 #aggregation time\n",
    "thr = 0.80 #fraction of removed cliques (0.80: retaining the 20% most weighted)\n",
    "\n",
    "node_neighbors_dict, triangles_list, avg_k1, avg_k2 = import_sociopattern_simcomp_SCM(dataset_dir, dataset, n_minutes, thr)\n",
    "tri_neighbors_dict = get_tri_neighbors_dict(triangles_list)\n",
    "\n",
    "mu_A = 0.05 #rec. prob. A\n",
    "mu_B = 0.05 #rec. prob. A\n",
    "\n",
    "lambda1_A = 1.2 #rescaled 1-simplex inf. prob. A\n",
    "lambdaD_A = 0.8 #desired rescaled 2-simplex inf. prob. A\n",
    "\n",
    "lambda1_B = 1.2 #rescaled 1-simplex inf. prob. B\n",
    "lambdaD_B = 0.8 #desired rescaled 2-simplex inf. prob. B\n",
    "\n",
    "i0_A = 0.4 #initial conditions (% of infectious nodes at t=0) A\n",
    "i0_B = 0.4 #initial conditions (% of infectious nodes at t=0) B\n",
    "i0_AB = 0.2 #initial conditions (% of infectious nodes at t=0) AB\n",
    "\n",
    "beta_A = 1.*(mu_A/avg_k1)*lambda1_A #1-simplex inf. prob. A\n",
    "beta_D_A = 1.*(mu_A/avg_k2)*lambdaD_A #2-simplex inf. prob. A\n",
    "\n",
    "beta_B = 1.*(mu_B/avg_k1)*lambda1_B #1-simplex inf. prob. A\n",
    "beta_D_B = 1.*(mu_B/avg_k2)*lambdaD_B #2-simplex inf. prob. A\n",
    "\n",
    "epsilon_A = 1.5\n",
    "epsilon_B = 2.\n",
    "\n",
    "NSteps = 300"
   ]
  },
  {
   "cell_type": "code",
   "execution_count": null,
   "id": "5e832e2f",
   "metadata": {},
   "outputs": [],
   "source": [
    "pt_A, pt_B, pt_AB = markovChain(beta_A, beta_D_A, mu_A, beta_B, beta_D_B, mu_B, epsilon_A, epsilon_B, node_neighbors_dict, tri_neighbors_dict, NSteps, i0_A, i0_B, i0_AB)"
   ]
  },
  {
   "cell_type": "code",
   "execution_count": 6,
   "id": "17826b85",
   "metadata": {},
   "outputs": [
    {
     "data": {
      "text/plain": [
       "Text(0, 0.5, 'density of infected')"
      ]
     },
     "execution_count": 6,
     "metadata": {},
     "output_type": "execute_result"
    },
    {
     "data": {
      "image/png": "[encoded data removed]",
      "text/plain": [
       "<Figure size 432x288 with 1 Axes>"
      ]
     },
     "metadata": {
      "needs_background": "light"
     },
     "output_type": "display_data"
    }
   ],
   "source": [
    "plt.plot(pt_A, label='A')\n",
    "plt.plot(pt_B, label='B')\n",
    "plt.plot(pt_AB, label='AB')\n",
    "plt.legend()\n",
    "plt.xlabel('time')\n",
    "plt.ylabel('density of infected')"
   ]
  },
  {
   "cell_type": "code",
   "execution_count": 10,
   "id": "7e668f53",
   "metadata": {},
   "outputs": [
    {
     "data": {
      "text/plain": [
       "Text(0, 0.5, 'density of infected')"
      ]
     },
     "execution_count": 10,
     "metadata": {},
     "output_type": "execute_result"
    },
    {
     "data": {
      "image/png": "[encoded data removed]",
      "text/plain": [
       "<Figure size 432x288 with 1 Axes>"
      ]
     },
     "metadata": {
      "needs_background": "light"
     },
     "output_type": "display_data"
    }
   ],
   "source": [
    "tot_A=[]\n",
    "tot_B=[]\n",
    "for i in range(len(pt_A)):\n",
    "    tot_A.append(pt_A[i]+pt_AB[i])\n",
    "    tot_B.append(pt_B[i]+pt_AB[i])\n",
    "\n",
    "plt.plot(tot_A, label='tot. A')\n",
    "plt.plot(tot_B, label='tot. B')\n",
    "plt.legend()\n",
    "plt.xlabel('time')\n",
    "plt.ylabel('density of infected')"
   ]
  },
  {
   "cell_type": "code",
   "execution_count": null,
   "id": "58a46578",
   "metadata": {},
   "outputs": [],
   "source": []
  },
  {
   "cell_type": "code",
   "execution_count": null,
   "id": "bf33db58",
   "metadata": {},
   "outputs": [],
   "source": []
  }
 ],
 "metadata": {
  "kernelspec": {
   "display_name": "Python 3",
   "language": "python",
   "name": "python3"
  },
  "language_info": {
   "codemirror_mode": {
    "name": "ipython",
    "version": 3
   },
   "file_extension": ".py",
   "mimetype": "text/x-python",
   "name": "python",
   "nbconvert_exporter": "python",
   "pygments_lexer": "ipython3",
   "version": "3.8.8"
  }
 },
 "nbformat": 4,
 "nbformat_minor": 5
}
